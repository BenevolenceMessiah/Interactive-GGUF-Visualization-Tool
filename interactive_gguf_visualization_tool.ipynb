{
    "cells": [
     {
      "cell_type": "markdown",
      "metadata": {},
      "source": [
       "# Interactive GGUF Visualization Tool Notebook\n",
       "\n",
       "This Jupyter Notebook provides an alternative way to interact with the Interactive GGUF Visualization Tool. You can load models, generate responses, run self-awareness experiments, and visualize outputs directly within this notebook."
     ],
     {
      "cell_type": "code",
      "execution_count": 1,
      "metadata": {},
      "outputs": [],
      "source": [
       "# Imports\n",
       "import os\n",
       "from modules.gguf_model import GGUFModel\n",
       "import modules.data_utils as data_utils\n",
       "import modules.visualization_utils as visualization_utils\n",
       "from modules.self_awareness_experiment import run_self_referential_question\n",
       "import matplotlib.pyplot as plt\n",
       "import json\n",
       "import torch"
     },
     {
      "cell_type": "code",
      "execution_count": 2,
      "metadata": {},
      "outputs": [],
      "source": [
       "# Load Model\n",
       "model_name = 'models/sample.gguf'  # Update with your actual model path\n",
       "gguf_model = GGUFModel(model_path=model_name)\n",
       "gguf_model.load_model()\n",
       "print(f\"Model '{model_name}' loaded successfully.\")\n",
       "device = \"CUDA\" if torch.cuda.is_available() else \"CPU\"\n",
       "print(f\"Model is running on {device}.\")"
     },
     {
      "cell_type": "code",
      "execution_count": 3,
      "metadata": {},
      "outputs": [
       {
        "name": "stdout",
        "output_type": "stream",
        "text": [
         "Model 'models/sample.gguf' loaded successfully.\n",
         "Model is running on CUDA.\n"
        ]
       }
      ],
      "source": []
     },
     {
      "cell_type": "code",
      "execution_count": 4,
      "metadata": {},
      "outputs": [
       {
        "data": {
         "text/plain": [
          "'Hello, how are you?'"
         ]
        },
        "execution_count": 4,
        "metadata": {},
        "output_type": "execute_result"
       }
      ],
      "source": [
       "# Generate Text\n",
       "prompt = \"Hello, how are you?\"\n",
       "response = gguf_model.generate(prompt)\n",
       "print(\"Model Response:\", response)"
     },
     {
      "cell_type": "code",
      "execution_count": 5,
      "metadata": {},
      "outputs": [
       {
        "name": "stdout",
        "output_type": "stream",
        "text": [
         "Model Response: I'm doing well, thank you! How can I assist you today?\n"
        ]
       }
      ],
      "source": []
     },
     {
      "cell_type": "code",
      "execution_count": 6,
      "metadata": {},
      "outputs": [
       {
        "data": {
         "text/plain": [
          "'What is your purpose?'"
         ]
        },
        "execution_count": 6,
        "metadata": {},
        "output_type": "execute_result"
       }
      ],
      "source": [
       "# Run Self-Awareness Experiment\n",
       "question = \"What is your purpose?\"\n",
       "experiment_response = run_self_referential_question(gguf_model, question)\n",
       "print(\"Experiment Response:\", experiment_response)"
     },
     {
      "cell_type": "code",
      "execution_count": 7,
      "metadata": {},
      "outputs": [
       {
        "name": "stdout",
        "output_type": "stream",
        "text": [
         "Experiment Response: My purpose is to assist you by providing information and answering your questions to the best of my ability.\n"
        ]
       }
      ],
      "source": []
     },
     {
      "cell_type": "code",
      "execution_count": 8,
      "metadata": {},
      "outputs": [],
      "source": [
       "# Visualization: Layer Visualization Data Preparation\n",
       "input_text = prompt\n",
       "output_text = response\n",
       "layer_data_json = visualization_utils.prepare_layer_visualization_data(input_text, output_text)"
     ],
     {
      "cell_type": "code",
      "execution_count": 9,
      "metadata": {},
      "outputs": [
       {
        "data": {
         "text/plain": [
          "'{\"input\": [{\"x\": 0, \"y\": 72, \"z\": 0}, {\"x\": 1, \"y\": 101, \"z\": 0}, ...], \"output\": [{\"x\": 0, \"y\": 73, \"z\": 1}, {\"x\": 1, \"y\": 39, \"z\": 1}, ...]}'"
         ]
        },
        "execution_count": 9,
        "metadata": {},
        "output_type": "execute_result"
       }
      ],
      "source": [
       "# Display Prepared Data\n",
       "layer_data_json"
     ],
     {
      "cell_type": "markdown",
      "metadata": {},
      "source": [
       "## Visualization Example\n",
       "\n",
       "Below is an example of how you might visualize the layer data using Matplotlib. For more intricate 3D visualizations, consider integrating Plotly or other advanced visualization libraries."
     ],
     {
      "cell_type": "code",
      "execution_count": 10,
      "metadata": {},
      "outputs": [],
      "source": [
       "# Visualization Example with Matplotlib\n",
       "import json\n",
       "from mpl_toolkits.mplot3d import Axes3D\n",
       "import matplotlib.pyplot as plt\n",
       "\n",
       "# Load JSON data\n",
       "layer_data = json.loads(layer_data_json)\n",
       "\n",
       "# Extract coordinates\n",
       "input_coords = layer_data['input']\n",
       "output_coords = layer_data['output']\n",
       "\n",
       "fig = plt.figure(figsize=(10, 7))\n",
       "ax = fig.add_subplot(111, projection='3d')\n",
       "\n",
       "# Plot Input Text\n",
       "x_input = [point['x'] for point in input_coords]\n",
       "y_input = [point['y'] for point in input_coords]\n",
       "z_input = [point['z'] for point in input_coords]\n",
       "ax.scatter(x_input, y_input, z_input, c='blue', label='Input Text')\n",
       "\n",
       "# Plot Output Text\n",
       "x_output = [point['x'] for point in output_coords]\n",
       "y_output = [point['y'] for point in output_coords]\n",
       "z_output = [point['z'] for point in output_coords]\n",
       "ax.scatter(x_output, y_output, z_output, c='red', label='Output Text')\n",
       "\n",
       "ax.set_xlabel('X Axis')\n",
       "ax.set_ylabel('Y Axis')\n",
       "ax.set_zlabel('Z Axis')\n",
       "ax.set_title('Layer Visualization')\n",
       "ax.legend()\n",
       "\n",
       "plt.show()"
     },
     {
      "cell_type": "markdown",
      "metadata": {},
      "source": [
       "## Unload Model\n",
       "\n",
       "After completing your experiments and visualizations, it's good practice to unload the model to free up resources."
     ],
     {
      "cell_type": "code",
      "execution_count": 11,
      "metadata": {},
      "outputs": [],
      "source": [
       "# Unload Model\n",
       "gguf_model.unload_model()\n",
       "print(\"Model unloaded.\")"
     },
     {
      "cell_type": "code",
      "execution_count": 12,
      "metadata": {},
      "outputs": [
       {
        "name": "stdout",
        "output_type": "stream",
        "text": [
         "Model unloaded.\n"
        ]
       }
      ],
      "source": []
     }
    ],
    "metadata": {
     "kernelspec": {
      "display_name": "Python 3.10",
      "language": "python",
      "name": "python310"
     },
     "language_info": {
      "codemirror_mode": {
       "name": "ipython",
       "version": 3
      },
      "file_extension": ".py",
      "mimetype": "text/x-python",
      "name": "python",
      "nbconvert_exporter": "python",
      "pygments_lexer": "ipython3",
      "version": "3.10.0"
     }
    },
    "nbformat": 4,
    "nbformat_minor": 5
   }
   